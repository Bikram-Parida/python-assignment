{
 "cells": [
  {
   "cell_type": "markdown",
   "id": "ffa73844-26ff-4fdf-bc7d-8f31792d718b",
   "metadata": {},
   "source": [
    "1. How do you concatenate two strings in Python?"
   ]
  },
  {
   "cell_type": "code",
   "execution_count": 1,
   "id": "fa41a28d-ecd5-4ec6-bdf6-9e1e75e6a026",
   "metadata": {},
   "outputs": [
    {
     "name": "stdout",
     "output_type": "stream",
     "text": [
      "hello world\n"
     ]
    }
   ],
   "source": [
    "str1 = \"hello\"\n",
    "str2 = \"world\"\n",
    "str3 = str1+' '+str2\n",
    "print(str3)"
   ]
  },
  {
   "cell_type": "markdown",
   "id": "45ab8aba-f7da-4e3d-9de6-59807b328143",
   "metadata": {},
   "source": [
    "2. What is the difference between the + operator and the join() method for\n",
    "concatenating strings?"
   ]
  },
  {
   "cell_type": "markdown",
   "id": "8aa93f2d-786b-46f1-8c78-4f9e7da142eb",
   "metadata": {},
   "source": [
    "  +  plus+ operator"
   ]
  },
  {
   "cell_type": "code",
   "execution_count": 1,
   "id": "c7adef9a-104a-451a-8389-c50d5abc3436",
   "metadata": {},
   "outputs": [
    {
     "name": "stdout",
     "output_type": "stream",
     "text": [
      "hello world\n"
     ]
    }
   ],
   "source": [
    "str1 = \"hello\"\n",
    "str2 = \"world\"\n",
    "str3 = str1+' '+str2\n",
    "print(str3)"
   ]
  },
  {
   "cell_type": "markdown",
   "id": "e9fde075-040d-4c76-a222-42b5293afa8c",
   "metadata": {},
   "source": [
    "join() method"
   ]
  },
  {
   "cell_type": "code",
   "execution_count": 32,
   "id": "cb9d134b-adf3-4040-a30d-0daab14fb90f",
   "metadata": {},
   "outputs": [
    {
     "name": "stdout",
     "output_type": "stream",
     "text": [
      "hello friends this is python\n"
     ]
    }
   ],
   "source": [
    "my_list = \"hello\",\" \",\"friends\",\" \",\"this\",\" \",\"is\",\" \",\"python\"\n",
    "result = \"\".join(my_list)\n",
    "print(result)"
   ]
  },
  {
   "cell_type": "markdown",
   "id": "22e4903a-f6f9-45e7-9d4f-8ea1415e2b85",
   "metadata": {},
   "source": [
    "3. How do you access individual characters in a string?"
   ]
  },
  {
   "cell_type": "code",
   "execution_count": 3,
   "id": "861b3a6d-dd37-4e45-bf0a-dd4a47d40450",
   "metadata": {},
   "outputs": [
    {
     "data": {
      "text/plain": [
       "'o'"
      ]
     },
     "execution_count": 3,
     "metadata": {},
     "output_type": "execute_result"
    }
   ],
   "source": [
    "\"hello\"[4]"
   ]
  },
  {
   "cell_type": "markdown",
   "id": "d96be2cd-6c18-49a8-94e2-03737579ba50",
   "metadata": {},
   "source": [
    "4. What method is used to find the length of a string in Python?"
   ]
  },
  {
   "cell_type": "code",
   "execution_count": 1,
   "id": "674b2bcb-c2f4-4d4f-9bc6-90415bcf4515",
   "metadata": {},
   "outputs": [
    {
     "data": {
      "text/plain": [
       "426"
      ]
     },
     "execution_count": 1,
     "metadata": {},
     "output_type": "execute_result"
    }
   ],
   "source": [
    "news =\"\"\"Gujarat continues to grapple with a massive flood situation amid continuous heavy rainfall, \n",
    "with the India Meteorological Department (IMD) issuing a ‘red’ alert for several parts of the state on Thursday, August 19.\n",
    "According to the weather department, \n",
    "the deep depression over Saurashtra and Kachchh is expected to intensify as it moves towards the northeast Arabian Sea, \n",
    "bringing further heavy rainfall across the region.\"\"\"\n",
    "len(news)"
   ]
  },
  {
   "cell_type": "markdown",
   "id": "df661db5-1131-4907-b1d6-a862fc062876",
   "metadata": {},
   "source": [
    "5. How can you convert a string to uppercase in Python?"
   ]
  },
  {
   "cell_type": "code",
   "execution_count": 2,
   "id": "6f77fc1c-d5d3-4e67-83d6-d90317d332d5",
   "metadata": {},
   "outputs": [
    {
     "data": {
      "text/plain": [
       "'GUJARAT CONTINUES TO GRAPPLE WITH A MASSIVE FLOOD SITUATION AMID CONTINUOUS HEAVY RAINFALL'"
      ]
     },
     "execution_count": 2,
     "metadata": {},
     "output_type": "execute_result"
    }
   ],
   "source": [
    "\"Gujarat continues to grapple with a massive flood situation amid continuous heavy rainfall\".upper()"
   ]
  },
  {
   "cell_type": "markdown",
   "id": "d067c63b-e9c2-4d59-b54d-bb7244cd3c67",
   "metadata": {},
   "source": [
    "6. How can you convert a string to lowercase in Python?"
   ]
  },
  {
   "cell_type": "code",
   "execution_count": 3,
   "id": "a1ce9196-a6f6-4775-8997-3778f2616ec1",
   "metadata": {},
   "outputs": [
    {
     "data": {
      "text/plain": [
       "'gujarat continues to grapple with a massive flood situation amid continuous heavy rainfall'"
      ]
     },
     "execution_count": 3,
     "metadata": {},
     "output_type": "execute_result"
    }
   ],
   "source": [
    "'GUJARAT CONTINUES TO GRAPPLE WITH A MASSIVE FLOOD SITUATION AMID CONTINUOUS HEAVY RAINFALL'.lower()"
   ]
  },
  {
   "cell_type": "markdown",
   "id": "6d90d020-35af-4944-9941-34000f094c35",
   "metadata": {},
   "source": [
    "7. What method is used to replace substrings within a string?"
   ]
  },
  {
   "cell_type": "code",
   "execution_count": 5,
   "id": "a0b8c8bc-f2b1-4234-916c-55df1a3fc07d",
   "metadata": {},
   "outputs": [
    {
     "data": {
      "text/plain": [
       "'this is jawa'"
      ]
     },
     "execution_count": 5,
     "metadata": {},
     "output_type": "execute_result"
    }
   ],
   "source": [
    "\"this is python\".replace(\"python\",\"jawa\")"
   ]
  },
  {
   "cell_type": "markdown",
   "id": "7d571541-8b91-4ac3-99dc-9bf51df8e6b5",
   "metadata": {},
   "source": [
    "8. How can you split a string into a list of substrings based on a delimiter?"
   ]
  },
  {
   "cell_type": "code",
   "execution_count": 7,
   "id": "c47cebb9-d0cb-4e8f-b6e0-a52f6af8cdef",
   "metadata": {},
   "outputs": [
    {
     "name": "stdout",
     "output_type": "stream",
     "text": [
      "['1', '2', '3']\n"
     ]
    }
   ],
   "source": [
    "string = \"1,2,3\"\n",
    "words = string.split(',')\n",
    "print(words)\n"
   ]
  },
  {
   "cell_type": "markdown",
   "id": "582bced7-51b3-4ada-a9c3-dd1d4aca2731",
   "metadata": {},
   "source": [
    "9. How do you check if a string starts with a particular substring?"
   ]
  },
  {
   "cell_type": "code",
   "execution_count": 14,
   "id": "adcd6033-3025-4a8f-8390-a24466cbebac",
   "metadata": {},
   "outputs": [
    {
     "data": {
      "text/plain": [
       "'Bikram '"
      ]
     },
     "execution_count": 14,
     "metadata": {},
     "output_type": "execute_result"
    }
   ],
   "source": [
    "text = 'Bikram loves to eat sandwhich'\n",
    "text[:7:]"
   ]
  },
  {
   "cell_type": "code",
   "execution_count": 12,
   "id": "3f11bf69-6817-4758-9b29-063a8016ee07",
   "metadata": {},
   "outputs": [
    {
     "name": "stdout",
     "output_type": "stream",
     "text": [
      "Original string: Jerry loves to eat cheese\n",
      "False\n"
     ]
    }
   ],
   "source": [
    "text = 'Bikram loves to eat sandwhich'\n",
    "\n",
    "result = text.startswith('Bikram')\n",
    "print( result)"
   ]
  },
  {
   "cell_type": "markdown",
   "id": "2f28cc8e-4002-415f-892e-a784ab3a3bbe",
   "metadata": {},
   "source": [
    "10. How do you check if a string ends with a particular substring?"
   ]
  },
  {
   "cell_type": "code",
   "execution_count": 9,
   "id": "d6584cc9-6bfa-400a-b07f-379285cc3fe6",
   "metadata": {},
   "outputs": [
    {
     "data": {
      "text/plain": [
       "'sandwhich'"
      ]
     },
     "execution_count": 9,
     "metadata": {},
     "output_type": "execute_result"
    }
   ],
   "source": [
    "text = 'Bikram loves to eat sandwhich'\n",
    "text[-9::]"
   ]
  },
  {
   "cell_type": "code",
   "execution_count": 11,
   "id": "8351d4fb",
   "metadata": {},
   "outputs": [
    {
     "name": "stdout",
     "output_type": "stream",
     "text": [
      "True\n"
     ]
    }
   ],
   "source": [
    "text = 'Bikram loves to eat sandwhich'\n",
    "\n",
    "result = text.endswith('sandwhich')\n",
    "print( result)"
   ]
  },
  {
   "cell_type": "markdown",
   "id": "aeef8d46-e13f-49c4-906f-af71858ade0a",
   "metadata": {},
   "source": [
    "11. How can you remove leading and trailing whitespace from a string?"
   ]
  },
  {
   "cell_type": "code",
   "execution_count": 1,
   "id": "7a1b4ae7",
   "metadata": {},
   "outputs": [
    {
     "name": "stdout",
     "output_type": "stream",
     "text": [
      "'   Bikram'\n"
     ]
    }
   ],
   "source": [
    "string = \"Bikram\"\n",
    "print(\"'   Bikram'\")"
   ]
  },
  {
   "cell_type": "markdown",
   "id": "c2748db0-ac4d-4034-a582-54753756cb3b",
   "metadata": {},
   "source": [
    "12. What method is used to find the index of the first occurrence of a substring within a\n",
    "string?"
   ]
  },
  {
   "cell_type": "code",
   "execution_count": null,
   "id": "249849da-73f9-4d50-9ea9-802a70e11dcd",
   "metadata": {},
   "outputs": [],
   "source": []
  },
  {
   "cell_type": "markdown",
   "id": "2ae9a8bb-d9d1-4643-a33c-338ca1bf548c",
   "metadata": {},
   "source": [
    "13. How can you count the number of occurrences of a substring within a string?"
   ]
  },
  {
   "cell_type": "code",
   "execution_count": 18,
   "id": "fb83526a-4ae2-4fdf-b6b5-77d1f03081a5",
   "metadata": {},
   "outputs": [
    {
     "name": "stdout",
     "output_type": "stream",
     "text": [
      "2\n"
     ]
    }
   ],
   "source": [
    "string = \"How many fruits do you have in your fruit basket?\"\n",
    "print(string.count(\"fruit\"))"
   ]
  },
  {
   "cell_type": "markdown",
   "id": "6730a253-c656-4362-becf-c3f06a3ed129",
   "metadata": {},
   "source": [
    "14. How do you check if a string contains only alphabetic characters?"
   ]
  },
  {
   "cell_type": "code",
   "execution_count": 19,
   "id": "ddc114e4-01b0-463d-87bb-265d0d710130",
   "metadata": {},
   "outputs": [
    {
     "data": {
      "text/plain": [
       "True"
      ]
     },
     "execution_count": 19,
     "metadata": {},
     "output_type": "execute_result"
    }
   ],
   "source": [
    "\"python\".isalpha()"
   ]
  },
  {
   "cell_type": "markdown",
   "id": "3013a5b8-852b-4bfe-abb9-6f3e64987b6c",
   "metadata": {},
   "source": [
    "15. How do you check if a string contains only numeric characters?"
   ]
  },
  {
   "cell_type": "code",
   "execution_count": 11,
   "id": "faf357bc-2f48-4eeb-9c3d-b9ea436fa9e1",
   "metadata": {},
   "outputs": [
    {
     "data": {
      "text/plain": [
       "True"
      ]
     },
     "execution_count": 11,
     "metadata": {},
     "output_type": "execute_result"
    }
   ],
   "source": [
    "\"1765277687369\".isnumeric()"
   ]
  },
  {
   "cell_type": "markdown",
   "id": "d343a09c-3086-4066-9f98-04b89f43b04d",
   "metadata": {},
   "source": [
    "16. How can you check if a string is a palindrome?"
   ]
  },
  {
   "cell_type": "code",
   "execution_count": 2,
   "id": "459aa2af-87d6-4b1d-ad14-6c89bc4e7f0a",
   "metadata": {},
   "outputs": [
    {
     "ename": "AttributeError",
     "evalue": "'str' object has no attribute 'palindrome'",
     "output_type": "error",
     "traceback": [
      "\u001b[1;31m---------------------------------------------------------------------------\u001b[0m",
      "\u001b[1;31mAttributeError\u001b[0m                            Traceback (most recent call last)",
      "Cell \u001b[1;32mIn[2], line 2\u001b[0m\n\u001b[0;32m      1\u001b[0m string \u001b[38;5;241m=\u001b[39m \u001b[38;5;124m\"\u001b[39m\u001b[38;5;124mmadam\u001b[39m\u001b[38;5;124m\"\u001b[39m\n\u001b[1;32m----> 2\u001b[0m \u001b[38;5;28mprint\u001b[39m(\u001b[43mstring\u001b[49m\u001b[38;5;241;43m.\u001b[39;49m\u001b[43mpalindrome\u001b[49m)\n",
      "\u001b[1;31mAttributeError\u001b[0m: 'str' object has no attribute 'palindrome'"
     ]
    }
   ],
   "source": []
  },
  {
   "cell_type": "markdown",
   "id": "181e1ec9-3528-4690-a4de-1fa72b5b1e27",
   "metadata": {},
   "source": [
    "17. How can you reverse a string in Python?"
   ]
  },
  {
   "cell_type": "code",
   "execution_count": 20,
   "id": "316d6798-53c1-45c9-b03e-de103885f5b6",
   "metadata": {},
   "outputs": [
    {
     "name": "stdout",
     "output_type": "stream",
     "text": [
      "nohtyp\n"
     ]
    }
   ],
   "source": [
    "string = \"python\"\n",
    "new_string = string[::-1]\n",
    "print(new_string)"
   ]
  },
  {
   "cell_type": "markdown",
   "id": "691981a0-9d4b-4cab-9fc7-689a8c679280",
   "metadata": {},
   "source": [
    "18. How do you format a string with placeholders for variable values?"
   ]
  },
  {
   "cell_type": "code",
   "execution_count": 27,
   "id": "a019b973-3ebb-4fed-a4b0-135cbb408c70",
   "metadata": {},
   "outputs": [
    {
     "name": "stdout",
     "output_type": "stream",
     "text": [
      "this is Noida this is Python 20 is number.\n"
     ]
    }
   ],
   "source": [
    "city = \"Noida\"\n",
    "name = \"Python\"\n",
    "number = 20\n",
    "variable = f\"this is {city} this is {name} {number} is number.\"\n",
    "print(variable)"
   ]
  },
  {
   "cell_type": "markdown",
   "id": "8f27ef54-f7e9-4714-9d43-3cd8743a08cd",
   "metadata": {},
   "source": [
    "19. How do you access a substring of a string using slicing?"
   ]
  },
  {
   "cell_type": "code",
   "execution_count": 37,
   "id": "4d556ba3-edd1-45ed-8cbb-58f669138a37",
   "metadata": {},
   "outputs": [
    {
     "name": "stdout",
     "output_type": "stream",
     "text": [
      "This \n"
     ]
    }
   ],
   "source": [
    "string = \"This is a sentence.\"\n",
    "print(string[0:5:1])"
   ]
  },
  {
   "cell_type": "markdown",
   "id": "a31e342f-cbd3-41a6-a295-694ae0c091fd",
   "metadata": {},
   "source": [
    "20. How can you remove specific characters from a string in Python?"
   ]
  },
  {
   "cell_type": "code",
   "execution_count": 38,
   "id": "a72b254b-9d28-4dad-965b-a135fd4dcc4a",
   "metadata": {},
   "outputs": [
    {
     "name": "stdout",
     "output_type": "stream",
     "text": [
      "hello world\n"
     ]
    }
   ],
   "source": [
    "string = \"hell& w&rld\"\n",
    "string1 = string.replace(\"&\",\"o\")\n",
    "print(string1)"
   ]
  }
 ],
 "metadata": {
  "kernelspec": {
   "display_name": "Python 3 (ipykernel)",
   "language": "python",
   "name": "python3"
  },
  "language_info": {
   "codemirror_mode": {
    "name": "ipython",
    "version": 3
   },
   "file_extension": ".py",
   "mimetype": "text/x-python",
   "name": "python",
   "nbconvert_exporter": "python",
   "pygments_lexer": "ipython3",
   "version": "3.12.5"
  }
 },
 "nbformat": 4,
 "nbformat_minor": 5
}
